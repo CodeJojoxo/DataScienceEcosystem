{
 "cells": [
  {
   "cell_type": "markdown",
   "id": "e1f104f7-7969-4ab5-b9db-cac02aefc5d6",
   "metadata": {},
   "source": [
    "# Data Science Tools and Ecosystem\n"
   ]
  },
  {
   "cell_type": "markdown",
   "id": "72a13b6f-9206-4845-9f15-54038f41d6f2",
   "metadata": {
    "tags": []
   },
   "source": [
    "**Objectives:**\n",
    "- List of popular languages for Data Science\n",
    "- List of commonly used libraries used by Data Scientists\n",
    "- Arithmetic expressions in Python"
   ]
  },
  {
   "cell_type": "markdown",
   "id": "06c5fed0-2a82-4ad8-a89c-86097ce48171",
   "metadata": {},
   "source": [
    "In this notebook, Data Science Tools and Ecosystem are summarized."
   ]
  },
  {
   "cell_type": "markdown",
   "id": "13bd594f-0415-4b5b-9ebc-b8480b84f3a1",
   "metadata": {},
   "source": [
    "Some of the popular languages that Data Scientists use are:\n",
    "```\n",
    "    1. Python\n",
    "    2. R\n",
    "    3. SQL\n",
    "    4. Julia\n",
    "```\n",
    "\n"
   ]
  },
  {
   "cell_type": "markdown",
   "id": "b292a51d-9c7b-4e13-b499-3a0472df3f64",
   "metadata": {},
   "source": [
    "Some of the commonly used libraries used by Data Scientists include:\n",
    "```\n",
    "1. Tensorflow\n",
    "2. Numpy\n",
    "3. Pandas\n",
    "4. SciPy\n",
    "5. Matplotlib\n",
    "````\n"
   ]
  },
  {
   "cell_type": "markdown",
   "id": "d435982f-91a4-49af-ac22-d725a55d59c6",
   "metadata": {},
   "source": [
    "\n",
    "| Data Science Tools |\n",
    "| ------ |\n",
    "| Rstudio | \n",
    "| ApacheSpark | \n",
    "| Tensorflow |\n"
   ]
  },
  {
   "cell_type": "markdown",
   "id": "1476dede-cb2a-4597-bf03-36b92f01c706",
   "metadata": {},
   "source": [
    "### Below are a few examples of evaluating arithmetic expressions in Python\n"
   ]
  },
  {
   "cell_type": "code",
   "execution_count": 1,
   "id": "80b46c8e-9f68-4df2-a46d-4eb91a52ecf4",
   "metadata": {
    "tags": []
   },
   "outputs": [
    {
     "data": {
      "text/plain": [
       "17"
      ]
     },
     "execution_count": 1,
     "metadata": {},
     "output_type": "execute_result"
    }
   ],
   "source": [
    "(3*4)+5 \n",
    "# This a simple arithmetic expression to mutiply then add integers"
   ]
  },
  {
   "cell_type": "code",
   "execution_count": 4,
   "id": "ed23e631-91bb-49fc-be09-7ff60a186728",
   "metadata": {
    "tags": []
   },
   "outputs": [
    {
     "data": {
      "text/plain": [
       "3.3333333333333335"
      ]
     },
     "execution_count": 4,
     "metadata": {},
     "output_type": "execute_result"
    }
   ],
   "source": [
    "# This will convert 200 minutes to hours by dividing by 60\n",
    "(200/60)"
   ]
  },
  {
   "cell_type": "markdown",
   "id": "a0754138-42d4-455f-9217-d2ae183a7cf1",
   "metadata": {},
   "source": [
    "## Author \n",
    "Djoan Farag"
   ]
  },
  {
   "cell_type": "code",
   "execution_count": null,
   "id": "42ffb68c-a392-4b11-83af-7d04da8cb8e8",
   "metadata": {},
   "outputs": [],
   "source": []
  }
 ],
 "metadata": {
  "kernelspec": {
   "display_name": "Python",
   "language": "python",
   "name": "conda-env-python-py"
  },
  "language_info": {
   "codemirror_mode": {
    "name": "ipython",
    "version": 3
   },
   "file_extension": ".py",
   "mimetype": "text/x-python",
   "name": "python",
   "nbconvert_exporter": "python",
   "pygments_lexer": "ipython3",
   "version": "3.7.12"
  }
 },
 "nbformat": 4,
 "nbformat_minor": 5
}
